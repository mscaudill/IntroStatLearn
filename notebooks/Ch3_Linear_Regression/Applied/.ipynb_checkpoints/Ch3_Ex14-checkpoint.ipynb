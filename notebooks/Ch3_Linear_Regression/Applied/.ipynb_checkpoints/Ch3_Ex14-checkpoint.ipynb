{
 "cells": [
  {
   "cell_type": "markdown",
   "metadata": {},
   "source": [
    "# ISLR- Python: Ch3 -- Applied Question 14"
   ]
  },
  {
   "cell_type": "markdown",
   "metadata": {},
   "source": [
    "- [Generate Data](#Generate-Data)\n",
    "- [Measure Variable Correlations](#Measure-Variable_Correlations)\n",
    "- [Fit Least Squares Regression](#Fit-Least-Squares-Regression)\n",
    "- [Fit Least Squares Regression for One Variable](#Fit-Least-Squares-Regression-for-One-Variable)\n",
    "- [Fit Least Squares Regression with Possible High Leverage or Outlier](#Fit-Least-Squares-Regression-with-Possible-High-Leverage-or-Outlier)"
   ]
  },
  {
   "cell_type": "code",
   "execution_count": 94,
   "metadata": {
    "collapsed": false
   },
   "outputs": [],
   "source": [
    "# perform standard imports\n",
    "import statsmodels.api as sm\n",
    "import numpy as np\n",
    "import pandas as pd\n",
    "\n",
    "from matplotlib import pyplot as plt\n",
    "from pandas.tools.plotting import scatter_matrix \n",
    "from mpl_toolkits.mplot3d import Axes3D\n",
    "from statsmodels.stats.outliers_influence import OLSInfluence\n",
    "\n",
    "%matplotlib inline\n",
    "plt.style.use('ggplot') # emulate pretty r-style plots"
   ]
  },
  {
   "cell_type": "markdown",
   "metadata": {},
   "source": [
    "## Generate Data"
   ]
  },
  {
   "cell_type": "markdown",
   "metadata": {},
   "source": [
    "#### Make a model of the form $y = 2 + 2 x_1 + 0.3 x_2 + \\epsilon$ where $x_1 \\sim Uni(0,1)$ and $x_2 = 0.5 x_1 + \\frac{\\epsilon}{10}$ where $\\epsilon \\sim N(0,1)$. Here $\\left[\\beta_1, \\beta_2, \\beta_3\\right] = \\left[2, 2, 0.3\\right]$."
   ]
  },
  {
   "cell_type": "code",
   "execution_count": 95,
   "metadata": {
    "collapsed": false
   },
   "outputs": [],
   "source": [
    "# Create the poplulation regression\n",
    "np.random.seed(0)\n",
    "x1 = np.random.random(100)\n",
    "x2 = 0.5 * x1 + np.random.randn(100)/10\n",
    "y = (2 + 2*x1 + 0.3*x2 + np.random.randn(100))"
   ]
  },
  {
   "cell_type": "markdown",
   "metadata": {},
   "source": [
    "## Measure Variable Correlations"
   ]
  },
  {
   "cell_type": "code",
   "execution_count": 96,
   "metadata": {
    "collapsed": false
   },
   "outputs": [
    {
     "name": "stdout",
     "output_type": "stream",
     "text": [
      "The correlation between x1 and x2 is 0.819263355822\n"
     ]
    },
    {
     "data": {
      "text/html": [
       "<div>\n",
       "<table border=\"1\" class=\"dataframe\">\n",
       "  <thead>\n",
       "    <tr style=\"text-align: right;\">\n",
       "      <th></th>\n",
       "      <th>y</th>\n",
       "      <th>x1</th>\n",
       "      <th>x2</th>\n",
       "    </tr>\n",
       "  </thead>\n",
       "  <tbody>\n",
       "    <tr>\n",
       "      <th>0</th>\n",
       "      <td>2.791001</td>\n",
       "      <td>0.548814</td>\n",
       "      <td>0.157892</td>\n",
       "    </tr>\n",
       "    <tr>\n",
       "      <th>1</th>\n",
       "      <td>2.189731</td>\n",
       "      <td>0.715189</td>\n",
       "      <td>0.447677</td>\n",
       "    </tr>\n",
       "    <tr>\n",
       "      <th>2</th>\n",
       "      <td>2.666293</td>\n",
       "      <td>0.602763</td>\n",
       "      <td>0.347948</td>\n",
       "    </tr>\n",
       "    <tr>\n",
       "      <th>3</th>\n",
       "      <td>0.902008</td>\n",
       "      <td>0.544883</td>\n",
       "      <td>0.118817</td>\n",
       "    </tr>\n",
       "    <tr>\n",
       "      <th>4</th>\n",
       "      <td>3.580737</td>\n",
       "      <td>0.423655</td>\n",
       "      <td>0.360653</td>\n",
       "    </tr>\n",
       "  </tbody>\n",
       "</table>\n",
       "</div>"
      ],
      "text/plain": [
       "          y        x1        x2\n",
       "0  2.791001  0.548814  0.157892\n",
       "1  2.189731  0.715189  0.447677\n",
       "2  2.666293  0.602763  0.347948\n",
       "3  0.902008  0.544883  0.118817\n",
       "4  3.580737  0.423655  0.360653"
      ]
     },
     "execution_count": 96,
     "metadata": {},
     "output_type": "execute_result"
    }
   ],
   "source": [
    "# The correlation between x1 and x2\n",
    "correlation = np.corrcoef(x1,x2)\n",
    "print('The correlation between x1 and x2 is', correlation[0,1])\n",
    "\n",
    "df = pd.DataFrame(np.column_stack((y,x1,x2)), columns=['y','x1','x2'] )\n",
    "df.head()"
   ]
  },
  {
   "cell_type": "code",
   "execution_count": 97,
   "metadata": {
    "collapsed": false
   },
   "outputs": [
    {
     "data": {
      "image/png": "[encoded data removed]",
      "text/plain": [
       "<matplotlib.figure.Figure at 0x7fbd0ad84f28>"
      ]
     },
     "metadata": {},
     "output_type": "display_data"
    }
   ],
   "source": [
    "scatter_matrix(df, figsize = (8,8),alpha=1);"
   ]
  },
  {
   "cell_type": "markdown",
   "metadata": {},
   "source": [
    "## Fit Least Squares Regression"
   ]
  },
  {
   "cell_type": "code",
   "execution_count": 98,
   "metadata": {
    "collapsed": false
   },
   "outputs": [
    {
     "name": "stdout",
     "output_type": "stream",
     "text": [
      "                            OLS Regression Results                            \n",
      "==============================================================================\n",
      "Dep. Variable:                      y   R-squared:                       0.261\n",
      "Model:                            OLS   Adj. R-squared:                  0.246\n",
      "Method:                 Least Squares   F-statistic:                     17.16\n",
      "Date:                Tue, 28 Jun 2016   Prob (F-statistic):           4.16e-07\n",
      "Time:                        20:48:38   Log-Likelihood:                -139.04\n",
      "No. Observations:                 100   AIC:                             284.1\n",
      "Df Residuals:                      97   BIC:                             291.9\n",
      "Df Model:                           2                                         \n",
      "Covariance Type:            nonrobust                                         \n",
      "==============================================================================\n",
      "                 coef    std err          t      P>|t|      [95.0% Conf. Int.]\n",
      "------------------------------------------------------------------------------\n",
      "const          1.9217      0.191     10.071      0.000         1.543     2.300\n",
      "x1             1.2007      0.597      2.011      0.047         0.016     2.385\n",
      "x2             1.4931      0.991      1.507      0.135        -0.473     3.459\n",
      "==============================================================================\n",
      "Omnibus:                        0.196   Durbin-Watson:                   2.109\n",
      "Prob(Omnibus):                  0.907   Jarque-Bera (JB):                0.026\n",
      "Skew:                           0.032   Prob(JB):                        0.987\n",
      "Kurtosis:                       3.046   Cond. No.                         13.0\n",
      "==============================================================================\n",
      "\n",
      "Warnings:\n",
      "[1] Standard Errors assume that the covariance matrix of the errors is correctly specified.\n",
      "\n",
      "\n",
      "[beta_0, beta_1, beta_2] are  const    1.921665\n",
      "x1       1.200680\n",
      "x2       1.493130\n",
      "dtype: float64\n"
     ]
    }
   ],
   "source": [
    "# create design matrix, model and fit\n",
    "X = sm.add_constant(df[['x1','x2']])\n",
    "model = sm.OLS(df.y,X)\n",
    "estimate = model.fit()\n",
    "print(estimate.summary())\n",
    "print('\\n')\n",
    "print('[beta_0, beta_1, beta_2] are ',estimate.params)"
   ]
  },
  {
   "cell_type": "markdown",
   "metadata": {},
   "source": [
    "#### The intercept $\\beta_0 = 1.92$ is significant and $\\beta_1$ is barely significant so we reject the hypothesis that $\\beta_0=0$ and the hypothesis that $\\beta_1=0$ but we can't reject the hypothesis that $\\beta_2 = 0$. Also notice the SE and confidence intervals for all three coeffecients are verly large."
   ]
  },
  {
   "cell_type": "markdown",
   "metadata": {},
   "source": [
    "## Fit Least Squares Regression for One Variable"
   ]
  },
  {
   "cell_type": "code",
   "execution_count": 99,
   "metadata": {
    "collapsed": false
   },
   "outputs": [
    {
     "name": "stdout",
     "output_type": "stream",
     "text": [
      "########## Model using x1 predictor ##########\n",
      "                            OLS Regression Results                            \n",
      "==============================================================================\n",
      "Dep. Variable:                      y   R-squared:                       0.244\n",
      "Model:                            OLS   Adj. R-squared:                  0.236\n",
      "Method:                 Least Squares   F-statistic:                     31.64\n",
      "Date:                Tue, 28 Jun 2016   Prob (F-statistic):           1.76e-07\n",
      "Time:                        20:48:38   Log-Likelihood:                -140.20\n",
      "No. Observations:                 100   AIC:                             284.4\n",
      "Df Residuals:                      98   BIC:                             289.6\n",
      "Df Model:                           1                                         \n",
      "Covariance Type:            nonrobust                                         \n",
      "==============================================================================\n",
      "                 coef    std err          t      P>|t|      [95.0% Conf. Int.]\n",
      "------------------------------------------------------------------------------\n",
      "const          1.9548      0.191     10.247      0.000         1.576     2.333\n",
      "x1             1.9378      0.344      5.625      0.000         1.254     2.621\n",
      "==============================================================================\n",
      "Omnibus:                        0.305   Durbin-Watson:                   2.127\n",
      "Prob(Omnibus):                  0.858   Jarque-Bera (JB):                0.050\n",
      "Skew:                          -0.005   Prob(JB):                        0.975\n",
      "Kurtosis:                       3.109   Cond. No.                         4.30\n",
      "==============================================================================\n",
      "\n",
      "Warnings:\n",
      "[1] Standard Errors assume that the covariance matrix of the errors is correctly specified.\n",
      "\n",
      "\n",
      "########## Model Using x2 predictor ##########\n",
      "                            OLS Regression Results                            \n",
      "==============================================================================\n",
      "Dep. Variable:                      y   R-squared:                       0.231\n",
      "Model:                            OLS   Adj. R-squared:                  0.223\n",
      "Method:                 Least Squares   F-statistic:                     29.37\n",
      "Date:                Tue, 28 Jun 2016   Prob (F-statistic):           4.29e-07\n",
      "Time:                        20:48:38   Log-Likelihood:                -141.09\n",
      "No. Observations:                 100   AIC:                             286.2\n",
      "Df Residuals:                      98   BIC:                             291.4\n",
      "Df Model:                           1                                         \n",
      "Covariance Type:            nonrobust                                         \n",
      "==============================================================================\n",
      "                 coef    std err          t      P>|t|      [95.0% Conf. Int.]\n",
      "------------------------------------------------------------------------------\n",
      "const          2.0721      0.178     11.623      0.000         1.718     2.426\n",
      "x2             3.1255      0.577      5.419      0.000         1.981     4.270\n",
      "==============================================================================\n",
      "Omnibus:                        0.213   Durbin-Watson:                   2.005\n",
      "Prob(Omnibus):                  0.899   Jarque-Bera (JB):                0.187\n",
      "Skew:                           0.100   Prob(JB):                        0.911\n",
      "Kurtosis:                       2.929   Cond. No.                         6.14\n",
      "==============================================================================\n",
      "\n",
      "Warnings:\n",
      "[1] Standard Errors assume that the covariance matrix of the errors is correctly specified.\n"
     ]
    }
   ],
   "source": [
    "# Fit a least squares regression using only x1\n",
    "X = sm.add_constant(df.x1)\n",
    "model_x1 = sm.OLS(df.y,X)\n",
    "estimate_x1 = model_x1.fit()\n",
    "\n",
    "print('########## Model using x1 predictor ##########')\n",
    "print(estimate_x1.summary())\n",
    "\n",
    "print('\\n')\n",
    "\n",
    "# Fit a least squares regression using x2\n",
    "X2 = sm.add_constant(df.x2)\n",
    "model_x2 = sm.OLS(df.y,X2)\n",
    "estimate_x2 = model_x2.fit()\n",
    "print('########## Model Using x2 predictor ##########')\n",
    "print(estimate_x2.summary())"
   ]
  },
  {
   "cell_type": "markdown",
   "metadata": {},
   "source": [
    "#### In model 1, $y \\sim x_1$, we find that the coeffecient is close to the true value and is now very significant. In model 2 $y \\sim x_2$, we find that the coeffecient for $x_2$ is now very significant. Note there is no contradiction here. $x_1$ and $x_2$ are strongly correlated and each is related to $y$ independent of each other. Only $x_1 \\,or\\, x_2$ is needed to caputure the models systematic variance.  "
   ]
  },
  {
   "cell_type": "markdown",
   "metadata": {},
   "source": [
    "## Fit Least Squares Regression with Possible High Leverage or Outlier"
   ]
  },
  {
   "cell_type": "code",
   "execution_count": 101,
   "metadata": {
    "collapsed": false,
    "scrolled": false
   },
   "outputs": [
    {
     "name": "stdout",
     "output_type": "stream",
     "text": [
      "                            OLS Regression Results                            \n",
      "==============================================================================\n",
      "Dep. Variable:                      y   R-squared:                       0.309\n",
      "Model:                            OLS   Adj. R-squared:                  0.295\n",
      "Method:                 Least Squares   F-statistic:                     22.13\n",
      "Date:                Tue, 28 Jun 2016   Prob (F-statistic):           1.14e-08\n",
      "Time:                        20:48:48   Log-Likelihood:                -143.09\n",
      "No. Observations:                 102   AIC:                             292.2\n",
      "Df Residuals:                      99   BIC:                             300.1\n",
      "Df Model:                           2                                         \n",
      "Covariance Type:            nonrobust                                         \n",
      "==============================================================================\n",
      "                 coef    std err          t      P>|t|      [95.0% Conf. Int.]\n",
      "------------------------------------------------------------------------------\n",
      "const          1.9708      0.192     10.281      0.000         1.590     2.351\n",
      "x1             2.2075      0.362      6.103      0.000         1.490     2.925\n",
      "x2            -0.5755      0.128     -4.485      0.000        -0.830    -0.321\n",
      "==============================================================================\n",
      "Omnibus:                        0.470   Durbin-Watson:                   2.180\n",
      "Prob(Omnibus):                  0.790   Jarque-Bera (JB):                0.134\n",
      "Skew:                          -0.011   Prob(JB):                        0.935\n",
      "Kurtosis:                       3.176   Cond. No.                         4.97\n",
      "==============================================================================\n",
      "\n",
      "Warnings:\n",
      "[1] Standard Errors assume that the covariance matrix of the errors is correctly specified.\n"
     ]
    },
    {
     "data": {
      "image/png": "[encoded data removed]",
      "text/plain": [
       "<matplotlib.figure.Figure at 0x7fbd0900af60>"
      ]
     },
     "metadata": {},
     "output_type": "display_data"
    }
   ],
   "source": [
    "# append new data points onto x1 and x2 and y\n",
    "df.loc[len(df)] = [0.1, 0.8, 6]\n",
    "\n",
    "# create design matrix, model and fit for multiple regression\n",
    "X = sm.add_constant(df[['x1','x2']])\n",
    "model = sm.OLS(df.y, X)\n",
    "estimate = model.fit()\n",
    "\n",
    "# print the betas and the p values\n",
    "print(estimate.summary())\n",
    "\n",
    "# Obtain the residuals, studentized residuals and the leverages\n",
    "fitted_values = estimate.fittedvalues.values\n",
    "residuals = estimate.resid.values\n",
    "studentized_residuals = OLSInfluence(estimate).resid_studentized_internal\n",
    "leverages = OLSInfluence(estimate).influence\n",
    "\n",
    "# Plot\n",
    "fig, (ax1,ax2) = plt.subplots(1,2,figsize=(16,4))\n",
    "\n",
    "# Studentized Residuals\n",
    "ax1.scatter(fitted_values[:-1], studentized_residuals[:-1], facecolors='none', edgecolors='b');\n",
    "# Plot the possible Outlier in red\n",
    "ax1.scatter(fitted_values[-1], studentized_residuals[-1], facecolors='none', edgecolors='r');\n",
    "ax1.set_xlabel('fitted values');\n",
    "ax1.set_ylabel('studentized residuals');\n",
    "\n",
    "# Leverages\n",
    "ax2.scatter(leverages[:-1], studentized_residuals[:-1], facecolors='none', edgecolors='b');\n",
    "# plot the possible high leverager in red\n",
    "ax2.scatter(leverages[-1], studentized_residuals[-1], facecolors='none', edgecolors='r');\n",
    "ax2.set_xlabel('Leverage');\n",
    "ax2.set_ylabel('studentized residual');"
   ]
  },
  {
   "cell_type": "markdown",
   "metadata": {},
   "source": [
    "#### Several very important things to note. When we added the possible outlier/leverage point, all the coeffecients became significant. This shows how a single point can cause havoc when multi-collinearity is present. The coeffecient estimates are wildly different than in any of the previous models. Secondly, we confirmed that the point we added was indeed a high leverage point though not an outlier. In fact on different runs of this code different coeffecients of $\\beta$ occur."
   ]
  },
  {
   "cell_type": "code",
   "execution_count": null,
   "metadata": {
    "collapsed": true
   },
   "outputs": [],
   "source": []
  }
 ],
 "metadata": {
  "kernelspec": {
   "display_name": "Python [default]",
   "language": "python",
   "name": "python3"
  },
  "language_info": {
   "codemirror_mode": {
    "name": "ipython",
    "version": 3
   },
   "file_extension": ".py",
   "mimetype": "text/x-python",
   "name": "python",
   "nbconvert_exporter": "python",
   "pygments_lexer": "ipython3",
   "version": "3.5.2"
  }
 },
 "nbformat": 4,
 "nbformat_minor": 0
}
