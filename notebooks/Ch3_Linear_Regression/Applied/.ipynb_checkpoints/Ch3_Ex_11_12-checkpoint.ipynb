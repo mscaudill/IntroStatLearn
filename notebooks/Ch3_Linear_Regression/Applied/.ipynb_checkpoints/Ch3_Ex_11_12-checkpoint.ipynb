{
 "cells": [
  {
   "cell_type": "markdown",
   "metadata": {},
   "source": [
    "# ISLR- Python: Ch3 -- Applied Question 11 & 12"
   ]
  },
  {
   "cell_type": "markdown",
   "metadata": {},
   "source": [
    "## Applied Question 11"
   ]
  },
  {
   "cell_type": "markdown",
   "metadata": {},
   "source": [
    "- [Generate Data](#Generate-Data)\n",
    "- [Scatter Plot](#Scatter-Plot)\n",
    "- [Regress y onto x](#Regress-y-onto-x)\n",
    "- [Regress x onto y](#Regress-x-onto-y)\n",
    "- [Interpret Regression Coeffecients](#Interpret-Regression-Coeffecients)"
   ]
  },
  {
   "cell_type": "code",
   "execution_count": 1,
   "metadata": {
    "collapsed": true
   },
   "outputs": [],
   "source": [
    "# perform standard imports\n",
    "import numpy as np\n",
    "import statsmodels.api as sm\n",
    "\n",
    "from matplotlib import pyplot as plt\n",
    "\n",
    "%matplotlib inline\n",
    "plt.style.use('ggplot') # emulate pretty r-style plots"
   ]
  },
  {
   "cell_type": "markdown",
   "metadata": {},
   "source": [
    "### Generate Data"
   ]
  },
  {
   "cell_type": "code",
   "execution_count": 2,
   "metadata": {
    "collapsed": false
   },
   "outputs": [
    {
     "data": {
      "image/png": "[encoded data removed]",
      "text/plain": [
       "<matplotlib.figure.Figure at 0x11175bc18>"
      ]
     },
     "metadata": {},
     "output_type": "display_data"
    }
   ],
   "source": [
    "np.random.seed(0)\n",
    "x = np.random.randn(100)\n",
    "y = 2*x + np.random.randn(100)\n",
    "\n",
    "fig, ax = plt.subplots(figsize=(8,6))\n",
    "ax.scatter(x,y, facecolors='none', edgecolors='b');"
   ]
  },
  {
   "cell_type": "markdown",
   "metadata": {},
   "source": [
    "### Regress y onto x"
   ]
  },
  {
   "cell_type": "code",
   "execution_count": 3,
   "metadata": {
    "collapsed": false
   },
   "outputs": [
    {
     "name": "stdout",
     "output_type": "stream",
     "text": [
      "                            OLS Regression Results                            \n",
      "==============================================================================\n",
      "Dep. Variable:                      y   R-squared:                       0.812\n",
      "Model:                            OLS   Adj. R-squared:                  0.810\n",
      "Method:                 Least Squares   F-statistic:                     426.4\n",
      "Date:                Tue, 28 Jun 2016   Prob (F-statistic):           1.16e-37\n",
      "Time:                        09:39:31   Log-Likelihood:                -144.94\n",
      "No. Observations:                 100   AIC:                             291.9\n",
      "Df Residuals:                      99   BIC:                             294.5\n",
      "Df Model:                           1                                         \n",
      "Covariance Type:            nonrobust                                         \n",
      "==============================================================================\n",
      "                 coef    std err          t      P>|t|      [95.0% Conf. Int.]\n",
      "------------------------------------------------------------------------------\n",
      "x1             2.1191      0.103     20.650      0.000         1.915     2.323\n",
      "==============================================================================\n",
      "Omnibus:                        5.116   Durbin-Watson:                   1.986\n",
      "Prob(Omnibus):                  0.077   Jarque-Bera (JB):                2.979\n",
      "Skew:                           0.209   Prob(JB):                        0.226\n",
      "Kurtosis:                       2.265   Cond. No.                         1.00\n",
      "==============================================================================\n",
      "\n",
      "Warnings:\n",
      "[1] Standard Errors assume that the covariance matrix of the errors is correctly specified.\n"
     ]
    }
   ],
   "source": [
    "model = sm.OLS(y,x)\n",
    "estimate = model.fit()\n",
    "print(estimate.summary())"
   ]
  },
  {
   "cell_type": "markdown",
   "metadata": {},
   "source": [
    "#### The slope (coeffecient) for the x predictor without an intercept is 2.12. This slope has a high t-statistic and low p-value (i.e. significant), which is expected since we know the form ${Y=2X+\\epsilon}$"
   ]
  },
  {
   "cell_type": "markdown",
   "metadata": {},
   "source": [
    "### Regress x onto y"
   ]
  },
  {
   "cell_type": "code",
   "execution_count": 4,
   "metadata": {
    "collapsed": false
   },
   "outputs": [
    {
     "name": "stdout",
     "output_type": "stream",
     "text": [
      "                            OLS Regression Results                            \n",
      "==============================================================================\n",
      "Dep. Variable:                      y   R-squared:                       0.812\n",
      "Model:                            OLS   Adj. R-squared:                  0.810\n",
      "Method:                 Least Squares   F-statistic:                     426.4\n",
      "Date:                Tue, 28 Jun 2016   Prob (F-statistic):           1.16e-37\n",
      "Time:                        09:39:31   Log-Likelihood:                -59.401\n",
      "No. Observations:                 100   AIC:                             120.8\n",
      "Df Residuals:                      99   BIC:                             123.4\n",
      "Df Model:                           1                                         \n",
      "Covariance Type:            nonrobust                                         \n",
      "==============================================================================\n",
      "                 coef    std err          t      P>|t|      [95.0% Conf. Int.]\n",
      "------------------------------------------------------------------------------\n",
      "x1             0.3830      0.019     20.650      0.000         0.346     0.420\n",
      "==============================================================================\n",
      "Omnibus:                        0.557   Durbin-Watson:                   2.085\n",
      "Prob(Omnibus):                  0.757   Jarque-Bera (JB):                0.687\n",
      "Skew:                          -0.072   Prob(JB):                        0.709\n",
      "Kurtosis:                       2.620   Cond. No.                         1.00\n",
      "==============================================================================\n",
      "\n",
      "Warnings:\n",
      "[1] Standard Errors assume that the covariance matrix of the errors is correctly specified.\n"
     ]
    }
   ],
   "source": [
    "model2 = sm.OLS(x,y)\n",
    "estimate2 = model2.fit()\n",
    "print(estimate2.summary())"
   ]
  },
  {
   "cell_type": "markdown",
   "metadata": {},
   "source": [
    "### Interpret Regression Coeffecients"
   ]
  },
  {
   "cell_type": "markdown",
   "metadata": {},
   "source": [
    "#### When we regress y onto x,  ${\\beta}$ is the slope term of the x predictor. We know the true ${\\beta=2}$, thus we get a coeffecient close to 2. Given that this captures all the variance except the irreducible data var ${var(\\epsilon)}$ the standard error is low and the coeffecient is highly significant. \n",
    "\n",
    "#### When we regress x onto y, we are inverting the equation to read ${X=Y\\left(\\frac{1-\\epsilon}{\\beta}\\right)}$. Thus we get a coeffecient that is close to the inverse slope ${1/\\beta}$. Notice that the standard error is lower because the random variable ${\\epsilon}$ is being divided by the coeffecient ${\\beta}$. \n",
    "\n",
    "#### Importantly, the t-statistic and p-value remain unchanged. We have shown this numerically and will now show it algebraically."
   ]
  },
  {
   "cell_type": "markdown",
   "metadata": {},
   "source": [
    "#### Given ${t = \\frac{\\beta}{SE\\left(\\beta\\right)}}$   and   ${SE\\left(\\beta\\right)}=\\sqrt{\\frac{\\sum{\\left(y_i-\\beta x_i\\right)^2}}{\\left(n-1\\right)\\sum{x_i^2}}}$   and   $\\beta=\\frac{\\sum{x_i y_i}}{\\sum{x_i^2}}$ by 3.38\n",
    "\n",
    "#### Show the t-statistic can be written as ${\\frac{\\sqrt{n-1}\\sum_{i=1}^n{x_iy_i}}{\\sqrt{\\sum{x_i^2}*\\sum_{i'=1}^{n}{y_{i'}^2}-\\sum_{i=1}^{n}{\\left(x_i*y_i\\right)^2}}}}$\n",
    "#### -------------------------------------------------------------------------------------------------------------------------------------------------------------------------------------------\n",
    "\n",
    "\n",
    "#### Substituting ${\\beta}$ into $t$ we get: ${t=\\frac{\\sqrt{n-1} \\sum{x_i y_i}}{\\sqrt{\\sum{x_i^2}}\\sqrt{\\sum{y_i^2-2 \\sum{ y_i x_i \\frac{\\sum{x_i y_i}}{\\sum{x_i^2}}}+\\sum{\\left(\\frac{\\sum{x_i y_i}}{\\sum{x_i^2}}\\right)^2 x_i^2}}}}}$\n",
    "\n",
    "#### The denominator can be simplified by distributing $\\sqrt{\\sum{x_i^2}}$ and by pulling the mini-sums out of the larger sums (they are constants) to get: ${t=\\frac{\\sqrt{n-1} \\sum{x_i y_i}}{{\\sum{x_i^2}\\sum{y_i^2}-\\sum{\\left(x_i y_i\\right)^2}}}}$ Q.E.D\n",
    "\n",
    "#### *Notice that we can switch x, y with each other and get the exact same t-statistic. This is why the t-statistic and the p-value for the regression of y onto x and x onto y are the same.*\n"
   ]
  },
  {
   "cell_type": "markdown",
   "metadata": {
    "collapsed": true
   },
   "source": [
    "### Applied Question 12"
   ]
  },
  {
   "cell_type": "markdown",
   "metadata": {},
   "source": [
    "#### (a) The coeffecient of regression for y~x and x~y will be the same if the denominator of $\\beta=\\frac{\\sum{x_i y_i}}{\\sum{x_i^2}}$ is equal (i.e.) $\\sum{x_i^2} = \\sum{y_i^2}$."
   ]
  },
  {
   "cell_type": "code",
   "execution_count": 8,
   "metadata": {
    "collapsed": false
   },
   "outputs": [
    {
     "name": "stdout",
     "output_type": "stream",
     "text": [
      "Question B:\n",
      "The coeffecient for y~x is: [ 1.11910764]\n",
      "The coeffecient for x~y is: [ 0.48763449]\n",
      "\n",
      "\n",
      "Question C:\n",
      "The coeffecient for y~x is: [-0.15473722]\n",
      "The coeffecient for x~y is: [-0.15473722]\n"
     ]
    }
   ],
   "source": [
    "#(b) Example where the coeffecient is different because the sum of squares is different\n",
    "np.random.seed(0)\n",
    "x = np.random.randn(100)\n",
    "y = x + np.random.randn(100)\n",
    "\n",
    "print('Question B:')\n",
    "\n",
    "model1_yx = sm.OLS(y,x)\n",
    "estimate1_yx = model1_yx.fit()\n",
    "print(\"The coeffecient for y~x is:\", estimate1_yx.params)\n",
    "\n",
    "model1_xy = sm.OLS(x,y)\n",
    "estimate1_xy = model1_xy.fit()\n",
    "print(\"The coeffecient for x~y is:\", estimate1_xy.params)\n",
    "\n",
    "#(c) Example where the coeffecient is the same because the sum of squares are the same\n",
    "\n",
    "# Define a random vector x and set y_i to be a random sample from x without replacement. Note y does not necessarily \n",
    "# =x but the sum of the squares will be the same\n",
    "x = np.random.randn(100)\n",
    "y = np.random.choice(x,100,replace=False)\n",
    "\n",
    "print('\\n')\n",
    "print('Question C:')\n",
    "\n",
    "model2_yx = sm.OLS(y,x)\n",
    "estimate2_yx = model2_yx.fit()\n",
    "print(\"The coeffecient for y~x is:\", estimate2_yx.params)\n",
    "\n",
    "model2_xy = sm.OLS(x,y)\n",
    "estimate2_xy = model2_xy.fit()\n",
    "print(\"The coeffecient for x~y is:\", estimate2_xy.params)\n"
   ]
  }
 ],
 "metadata": {
  "kernelspec": {
   "display_name": "Python [default]",
   "language": "python",
   "name": "python3"
  },
  "language_info": {
   "codemirror_mode": {
    "name": "ipython",
    "version": 3
   },
   "file_extension": ".py",
   "mimetype": "text/x-python",
   "name": "python",
   "nbconvert_exporter": "python",
   "pygments_lexer": "ipython3",
   "version": "3.5.2"
  }
 },
 "nbformat": 4,
 "nbformat_minor": 0
}
